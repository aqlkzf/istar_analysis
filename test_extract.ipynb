{
 "cells": [
  {
   "cell_type": "code",
   "execution_count": 1,
   "metadata": {},
   "outputs": [],
   "source": [
    "import sys"
   ]
  },
  {
   "cell_type": "code",
   "execution_count": 3,
   "metadata": {},
   "outputs": [],
   "source": [
    "sys.path.append('/lustre/project/Stat/s1155202250/fastfolder/code/st/istar/')"
   ]
  },
  {
   "cell_type": "code",
   "execution_count": 4,
   "metadata": {},
   "outputs": [],
   "source": [
    "from extract_features import *"
   ]
  },
  {
   "cell_type": "code",
   "execution_count": 11,
   "metadata": {},
   "outputs": [],
   "source": [
    "def get_args():\n",
    "    class Args:\n",
    "        prefix = 'data/demo/'\n",
    "        device = 'cuda:1'\n",
    "        reduction_method = None\n",
    "        n_components = None\n",
    "        smoothen_method = 'cv'\n",
    "        random_weights = False\n",
    "        use_cache = False\n",
    "        no_shift = False\n",
    "        plot = False\n",
    "\n",
    "    args = Args()\n",
    "    return args"
   ]
  },
  {
   "cell_type": "code",
   "execution_count": 12,
   "metadata": {},
   "outputs": [],
   "source": [
    "args = get_args()"
   ]
  },
  {
   "cell_type": "code",
   "execution_count": 13,
   "metadata": {},
   "outputs": [
    {
     "name": "stdout",
     "output_type": "stream",
     "text": [
      "Image loaded from data/demo/he.jpg\n"
     ]
    }
   ],
   "source": [
    "wsi = get_data(prefix=args.prefix)"
   ]
  },
  {
   "cell_type": "code",
   "execution_count": 14,
   "metadata": {},
   "outputs": [
    {
     "data": {
      "text/plain": [
       "(8448, 11264, 3)"
      ]
     },
     "execution_count": 14,
     "metadata": {},
     "output_type": "execute_result"
    }
   ],
   "source": [
    "wsi.shape"
   ]
  },
  {
   "cell_type": "code",
   "execution_count": 15,
   "metadata": {},
   "outputs": [
    {
     "name": "stdout",
     "output_type": "stream",
     "text": [
      "shift 0/256, 0/256\n",
      "Extracting embeddings...\n",
      "tile 0 / 6\n",
      "13 sec\n",
      "13 sec\n",
      "shift 0/256, 64/256\n",
      "Extracting embeddings...\n",
      "tile 0 / 6\n",
      "13 sec\n",
      "13 sec\n",
      "shift 0/256, 128/256\n",
      "Extracting embeddings...\n",
      "tile 0 / 6\n",
      "13 sec\n",
      "13 sec\n",
      "shift 0/256, 192/256\n",
      "Extracting embeddings...\n",
      "tile 0 / 6\n",
      "14 sec\n",
      "14 sec\n",
      "shift 64/256, 0/256\n",
      "Extracting embeddings...\n",
      "tile 0 / 6\n",
      "13 sec\n",
      "13 sec\n",
      "shift 64/256, 64/256\n",
      "Extracting embeddings...\n",
      "tile 0 / 6\n",
      "12 sec\n",
      "13 sec\n",
      "shift 64/256, 128/256\n",
      "Extracting embeddings...\n",
      "tile 0 / 6\n",
      "12 sec\n",
      "13 sec\n",
      "shift 64/256, 192/256\n",
      "Extracting embeddings...\n",
      "tile 0 / 6\n",
      "13 sec\n",
      "13 sec\n",
      "shift 128/256, 0/256\n",
      "Extracting embeddings...\n",
      "tile 0 / 6\n",
      "12 sec\n",
      "13 sec\n",
      "shift 128/256, 64/256\n",
      "Extracting embeddings...\n",
      "tile 0 / 6\n",
      "12 sec\n",
      "13 sec\n",
      "shift 128/256, 128/256\n",
      "Extracting embeddings...\n",
      "tile 0 / 6\n",
      "13 sec\n",
      "13 sec\n",
      "shift 128/256, 192/256\n",
      "Extracting embeddings...\n",
      "tile 0 / 6\n",
      "12 sec\n",
      "13 sec\n",
      "shift 192/256, 0/256\n",
      "Extracting embeddings...\n",
      "tile 0 / 6\n",
      "12 sec\n",
      "13 sec\n",
      "shift 192/256, 64/256\n",
      "Extracting embeddings...\n",
      "tile 0 / 6\n",
      "13 sec\n",
      "13 sec\n",
      "shift 192/256, 128/256\n",
      "Extracting embeddings...\n",
      "tile 0 / 6\n",
      "12 sec\n",
      "13 sec\n",
      "shift 192/256, 192/256\n",
      "Extracting embeddings...\n",
      "tile 0 / 6\n",
      "13 sec\n",
      "13 sec\n"
     ]
    }
   ],
   "source": [
    "emb_cls, emb_sub = get_embeddings_shift(\n",
    "                    wsi, pretrained=(not args.random_weights),\n",
    "                    device=args.device)"
   ]
  },
  {
   "cell_type": "code",
   "execution_count": null,
   "metadata": {},
   "outputs": [],
   "source": []
  }
 ],
 "metadata": {
  "kernelspec": {
   "display_name": "Python 3",
   "language": "python",
   "name": "python3"
  },
  "language_info": {
   "codemirror_mode": {
    "name": "ipython",
    "version": 3
   },
   "file_extension": ".py",
   "mimetype": "text/x-python",
   "name": "python",
   "nbconvert_exporter": "python",
   "pygments_lexer": "ipython3",
   "version": "3.9.18"
  }
 },
 "nbformat": 4,
 "nbformat_minor": 2
}
