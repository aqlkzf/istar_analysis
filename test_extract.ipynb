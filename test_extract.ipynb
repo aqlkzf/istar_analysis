{
 "cells": [
  {
   "cell_type": "code",
   "execution_count": 1,
   "metadata": {},
   "outputs": [],
   "source": [
    "import sys"
   ]
  },
  {
   "cell_type": "code",
   "execution_count": 2,
   "metadata": {},
   "outputs": [],
   "source": [
    "sys.path.append('/lustre/project/Stat/s1155202250/fastfolder/code/st/istar/')"
   ]
  },
  {
   "cell_type": "code",
   "execution_count": 3,
   "metadata": {},
   "outputs": [],
   "source": [
    "from extract_features import *"
   ]
  },
  {
   "cell_type": "code",
   "execution_count": 4,
   "metadata": {},
   "outputs": [],
   "source": [
    "def get_args():\n",
    "    class Args:\n",
    "        prefix = 'data/demo/'\n",
    "        device = 'cuda:1'\n",
    "        reduction_method = None\n",
    "        n_components = None\n",
    "        smoothen_method = 'cv'\n",
    "        random_weights = False\n",
    "        use_cache = False\n",
    "        no_shift = False\n",
    "        plot = False\n",
    "\n",
    "    args = Args()\n",
    "    return args"
   ]
  },
  {
   "cell_type": "code",
   "execution_count": 5,
   "metadata": {},
   "outputs": [],
   "source": [
    "args = get_args()"
   ]
  },
  {
   "cell_type": "code",
   "execution_count": 6,
   "metadata": {},
   "outputs": [
    {
     "name": "stdout",
     "output_type": "stream",
     "text": [
      "Image loaded from data/demo/he.jpg\n"
     ]
    }
   ],
   "source": [
    "wsi = get_data(prefix=args.prefix)"
   ]
  },
  {
   "cell_type": "code",
   "execution_count": 7,
   "metadata": {},
   "outputs": [
    {
     "data": {
      "text/plain": [
       "(8448, 11264, 3)"
      ]
     },
     "execution_count": 7,
     "metadata": {},
     "output_type": "execute_result"
    }
   ],
   "source": [
    "wsi.shape"
   ]
  },
  {
   "cell_type": "code",
   "execution_count": 8,
   "metadata": {},
   "outputs": [
    {
     "name": "stdout",
     "output_type": "stream",
     "text": [
      "shift 0/256, 0/256\n",
      "Extracting embeddings...\n",
      "tile 0 / 6\n",
      "13 sec\n",
      "14 sec\n",
      "shift 0/256, 64/256\n",
      "Extracting embeddings...\n",
      "tile 0 / 6\n",
      "12 sec\n",
      "12 sec\n",
      "shift 0/256, 128/256\n",
      "Extracting embeddings...\n",
      "tile 0 / 6\n",
      "12 sec\n",
      "13 sec\n",
      "shift 0/256, 192/256\n",
      "Extracting embeddings...\n",
      "tile 0 / 6\n",
      "12 sec\n",
      "12 sec\n",
      "shift 64/256, 0/256\n",
      "Extracting embeddings...\n",
      "tile 0 / 6\n",
      "12 sec\n",
      "12 sec\n",
      "shift 64/256, 64/256\n",
      "Extracting embeddings...\n",
      "tile 0 / 6\n",
      "12 sec\n",
      "12 sec\n",
      "shift 64/256, 128/256\n",
      "Extracting embeddings...\n",
      "tile 0 / 6\n",
      "12 sec\n",
      "12 sec\n",
      "shift 64/256, 192/256\n",
      "Extracting embeddings...\n",
      "tile 0 / 6\n",
      "12 sec\n",
      "12 sec\n",
      "shift 128/256, 0/256\n",
      "Extracting embeddings...\n",
      "tile 0 / 6\n",
      "12 sec\n",
      "12 sec\n",
      "shift 128/256, 64/256\n",
      "Extracting embeddings...\n",
      "tile 0 / 6\n",
      "12 sec\n",
      "12 sec\n",
      "shift 128/256, 128/256\n",
      "Extracting embeddings...\n",
      "tile 0 / 6\n",
      "12 sec\n",
      "12 sec\n",
      "shift 128/256, 192/256\n",
      "Extracting embeddings...\n",
      "tile 0 / 6\n",
      "12 sec\n",
      "12 sec\n",
      "shift 192/256, 0/256\n",
      "Extracting embeddings...\n",
      "tile 0 / 6\n",
      "12 sec\n",
      "12 sec\n",
      "shift 192/256, 64/256\n",
      "Extracting embeddings...\n",
      "tile 0 / 6\n",
      "12 sec\n",
      "12 sec\n",
      "shift 192/256, 128/256\n",
      "Extracting embeddings...\n",
      "tile 0 / 6\n",
      "12 sec\n",
      "12 sec\n",
      "shift 192/256, 192/256\n",
      "Extracting embeddings...\n",
      "tile 0 / 6\n",
      "12 sec\n",
      "13 sec\n"
     ]
    }
   ],
   "source": [
    "emb_cls, emb_sub = get_embeddings_shift(\n",
    "                    wsi, pretrained=(not args.random_weights),\n",
    "                    device=args.device)"
   ]
  },
  {
   "cell_type": "code",
   "execution_count": 9,
   "metadata": {},
   "outputs": [],
   "source": [
    "img=wsi\n",
    "margin=256\n",
    "stride=64\n",
    "pretrained=True\n",
    "device=args.device\n",
    "\n"
   ]
  },
  {
   "cell_type": "code",
   "execution_count": 10,
   "metadata": {},
   "outputs": [],
   "source": [
    "    factor = 16  # scaling factor between cls and sub. Fixed\n",
    "    shape_emb = np.array(img.shape[:2]) // factor\n",
    "    chans_cls = [\n",
    "            np.zeros(shape_emb, dtype=np.float32)\n",
    "            for __ in range(192)]\n",
    "    chans_sub = [\n",
    "            np.zeros(shape_emb, dtype=np.float32)\n",
    "            for __ in range(384)]\n",
    "    start_list = list(range(0, margin, stride))\n",
    "    n_reps = 0"
   ]
  },
  {
   "cell_type": "code",
   "execution_count": 11,
   "metadata": {},
   "outputs": [
    {
     "data": {
      "text/plain": [
       "array([528, 704])"
      ]
     },
     "execution_count": 11,
     "metadata": {},
     "output_type": "execute_result"
    }
   ],
   "source": [
    "shape_emb"
   ]
  },
  {
   "cell_type": "code",
   "execution_count": 12,
   "metadata": {},
   "outputs": [
    {
     "data": {
      "text/plain": [
       "[0, 64, 128, 192]"
      ]
     },
     "execution_count": 12,
     "metadata": {},
     "output_type": "execute_result"
    }
   ],
   "source": [
    "start_list"
   ]
  },
  {
   "cell_type": "code",
   "execution_count": 13,
   "metadata": {},
   "outputs": [
    {
     "name": "stdout",
     "output_type": "stream",
     "text": [
      "shift 0/256, 0/256\n",
      "Extracting embeddings...\n",
      "tile 0 / 6\n",
      "12 sec\n",
      "12 sec\n",
      "shift 0/256, 64/256\n",
      "Extracting embeddings...\n",
      "tile 0 / 6\n",
      "12 sec\n",
      "12 sec\n",
      "shift 0/256, 128/256\n",
      "Extracting embeddings...\n",
      "tile 0 / 6\n",
      "12 sec\n",
      "12 sec\n",
      "shift 0/256, 192/256\n",
      "Extracting embeddings...\n",
      "tile 0 / 6\n",
      "12 sec\n",
      "12 sec\n",
      "shift 64/256, 0/256\n",
      "Extracting embeddings...\n",
      "tile 0 / 6\n",
      "12 sec\n",
      "13 sec\n",
      "shift 64/256, 64/256\n",
      "Extracting embeddings...\n",
      "tile 0 / 6\n",
      "12 sec\n",
      "12 sec\n",
      "shift 64/256, 128/256\n",
      "Extracting embeddings...\n",
      "tile 0 / 6\n",
      "12 sec\n",
      "12 sec\n",
      "shift 64/256, 192/256\n",
      "Extracting embeddings...\n",
      "tile 0 / 6\n",
      "12 sec\n",
      "12 sec\n",
      "shift 128/256, 0/256\n",
      "Extracting embeddings...\n",
      "tile 0 / 6\n",
      "12 sec\n",
      "12 sec\n",
      "shift 128/256, 64/256\n",
      "Extracting embeddings...\n",
      "tile 0 / 6\n",
      "12 sec\n",
      "12 sec\n",
      "shift 128/256, 128/256\n",
      "Extracting embeddings...\n",
      "tile 0 / 6\n",
      "11 sec\n",
      "12 sec\n",
      "shift 128/256, 192/256\n",
      "Extracting embeddings...\n",
      "tile 0 / 6\n",
      "12 sec\n",
      "12 sec\n",
      "shift 192/256, 0/256\n",
      "Extracting embeddings...\n",
      "tile 0 / 6\n",
      "12 sec\n",
      "12 sec\n",
      "shift 192/256, 64/256\n",
      "Extracting embeddings...\n",
      "tile 0 / 6\n",
      "12 sec\n",
      "12 sec\n",
      "shift 192/256, 128/256\n",
      "Extracting embeddings...\n",
      "tile 0 / 6\n",
      "12 sec\n",
      "12 sec\n",
      "shift 192/256, 192/256\n",
      "Extracting embeddings...\n",
      "tile 0 / 6\n",
      "12 sec\n",
      "13 sec\n"
     ]
    }
   ],
   "source": [
    "for start0 in start_list:\n",
    "    for start1 in start_list:\n",
    "        print(f'shift {start0}/{margin}, {start1}/{margin}')\n",
    "        t0 = time()\n",
    "        stop0, stop1 = -margin+start0, -margin+start1\n",
    "        im = img[start0:stop0, start1:stop1]\n",
    "        cls, sub = get_embeddings(\n",
    "                im, pretrained=pretrained, device=device)\n",
    "        del im\n",
    "        sta0, sta1 = start0 // factor, start1 // factor\n",
    "        sto0, sto1 = stop0 // factor, stop1 // factor\n",
    "        for i in range(len(chans_cls)):\n",
    "            chans_cls[i][sta0:sto0, sta1:sto1] += cls[i]\n",
    "        del cls\n",
    "        for i in range(len(chans_sub)):\n",
    "            chans_sub[i][sta0:sto0, sta1:sto1] += sub[i]\n",
    "        del sub\n",
    "        n_reps += 1\n",
    "        print(int(time() - t0), 'sec')\n"
   ]
  },
  {
   "cell_type": "code",
   "execution_count": 15,
   "metadata": {},
   "outputs": [],
   "source": [
    "\n",
    "    mar = margin // factor\n",
    "    for chan in chans_cls:\n",
    "        chan /= n_reps\n",
    "        chan[-mar:] = 0.0\n",
    "        chan[:, -mar:] = 0.0\n",
    "    for chan in chans_sub:\n",
    "        chan /= n_reps\n",
    "        chan[-mar:] = 0.0\n",
    "        chan[:, -mar:] = 0.0"
   ]
  },
  {
   "cell_type": "code",
   "execution_count": 16,
   "metadata": {},
   "outputs": [],
   "source": [
    "        embs = dict(cls=emb_cls, sub=emb_sub)\n"
   ]
  },
  {
   "cell_type": "code",
   "execution_count": 17,
   "metadata": {},
   "outputs": [],
   "source": [
    "    embs['rgb'] = np.stack([\n",
    "            reduce(\n",
    "                wsi[..., i].astype(np.float16) / 255.0,\n",
    "                '(h1 h) (w1 w) -> h1 w1', 'mean',\n",
    "                h=16, w=16).astype(np.float32)\n",
    "            for i in range(3)])\n",
    "    del wsi"
   ]
  },
  {
   "cell_type": "code",
   "execution_count": null,
   "metadata": {},
   "outputs": [],
   "source": []
  }
 ],
 "metadata": {
  "kernelspec": {
   "display_name": "Python 3",
   "language": "python",
   "name": "python3"
  },
  "language_info": {
   "codemirror_mode": {
    "name": "ipython",
    "version": 3
   },
   "file_extension": ".py",
   "mimetype": "text/x-python",
   "name": "python",
   "nbconvert_exporter": "python",
   "pygments_lexer": "ipython3",
   "version": "3.9.18"
  }
 },
 "nbformat": 4,
 "nbformat_minor": 2
}
